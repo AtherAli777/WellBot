{
 "cells": [
  {
   "cell_type": "code",
   "execution_count": 2,
   "metadata": {},
   "outputs": [],
   "source": [
    "from langchain_openai import ChatOpenAI\n",
    "from langchain.document_loaders import CSVLoader\n",
    "from langchain.text_splitter import RecursiveCharacterTextSplitter\n",
    "from langchain.vectorstores import Chroma, FAISS\n",
    "from langchain_huggingface import HuggingFaceEmbeddings\n",
    "from langchain.prompts import ChatPromptTemplate\n",
    "from langchain.chains import ConversationalRetrievalChain\n",
    "from langchain.memory import ConversationSummaryBufferMemory\n",
    "from chromadb.config import Settings\n",
    "from langchain.chains import ConversationalRetrievalChain\n",
    "from langchain.prompts import PromptTemplate\n",
    "from langchain.memory import ConversationBufferMemory\n",
    "from textblob import TextBlob\n",
    "import chromadb\n",
    "import os\n",
    "import re\n",
    "import pickle\n",
    "import random"
   ]
  },
  {
   "cell_type": "code",
   "execution_count": 3,
   "metadata": {},
   "outputs": [],
   "source": [
    "crisis_score = 0"
   ]
  },
  {
   "cell_type": "code",
   "execution_count": 4,
   "metadata": {},
   "outputs": [],
   "source": [
    "#calling api key and loading opeanai\n",
    "os.environ['OPENAI_API_KEY'] = \"\"\n",
    "llm = ChatOpenAI(model_name=\"gpt-3.5-turbo\", temperature=0.3)"
   ]
  },
  {
   "cell_type": "code",
   "execution_count": 5,
   "metadata": {},
   "outputs": [],
   "source": [
    "#loading the documents\n",
    "def load_doc(doc):\n",
    "    loader = CSVLoader(doc)\n",
    "    doc = loader.load()\n",
    "    print(f\"length of document {len(doc)}\")\n",
    "    print(f\"content of document {doc[0].page_content}\")\n",
    "    return doc"
   ]
  },
  {
   "cell_type": "code",
   "execution_count": 6,
   "metadata": {},
   "outputs": [],
   "source": [
    "#preprocessing the documents\n",
    "def preprocessing(docs):\n",
    "    for doc in docs:\n",
    "        if doc.page_content:\n",
    "            # Remove extra whitespace\n",
    "            text = ' '.join(doc.page_content.split())\n",
    "            doc.page_content = text\n",
    "    return docs"
   ]
  },
  {
   "cell_type": "code",
   "execution_count": 7,
   "metadata": {},
   "outputs": [],
   "source": [
    "#splitting document into chunks\n",
    "def split_documents(clean):\n",
    "    spliter = RecursiveCharacterTextSplitter(\n",
    "        chunk_size = 1000,\n",
    "        chunk_overlap = 200,\n",
    "        separators=[\"\\n\\n\", \"\\n\", \".\", \"!\", \"?\", \",\", \" \", \"\"],\n",
    "        length_function = len \n",
    "    )\n",
    "    chunk = spliter.split_documents(clean)\n",
    "    print(f\"length of split document: {len(chunk)}\")\n",
    "    return chunk"
   ]
  },
  {
   "cell_type": "code",
   "execution_count": 19,
   "metadata": {},
   "outputs": [],
   "source": [
    "\n",
    "def indexing1(chunks):\n",
    "    try:\n",
    "        # Ensure the persist directory exists\n",
    "        persist_directory = \"./chroma_db\"\n",
    "        os.makedirs(persist_directory, exist_ok=True)\n",
    "\n",
    "        # Initialize the embedding model\n",
    "        embedding = HuggingFaceEmbeddings(model_name=\"sentence-transformers/all-MiniLM-L6-v2\")\n",
    "\n",
    "        # Create a new client using the updated method\n",
    "        client = chromadb.PersistentClient(path=persist_directory)\n",
    "\n",
    "        # Create and persist the Chroma vector store\n",
    "        vectorstore = Chroma.from_documents(\n",
    "            documents=chunks,\n",
    "            embedding=embedding,\n",
    "            client=client,\n",
    "            collection_name=\"my_collection\"  # You can change this name as needed\n",
    "        )\n",
    "        \n",
    "        print(\"Vector store created and persisted\")\n",
    "        return vectorstore\n",
    "    except Exception as e:\n",
    "        print(f\"Error occurred: {str(e)}\")\n",
    "        return None"
   ]
  },
  {
   "cell_type": "code",
   "execution_count": 8,
   "metadata": {},
   "outputs": [],
   "source": [
    "#embedding and indexing\n",
    "def indexing(chunks, save_path=\"./faiss_index\"):\n",
    "    try:\n",
    "        # Initialize the embedding model\n",
    "        embedding = HuggingFaceEmbeddings(model_name=\"sentence-transformers/all-MiniLM-L6-v2\")\n",
    "\n",
    "        # Create and persist the Chroma vector store\n",
    "        vectorstore = FAISS.from_documents(\n",
    "            documents=chunks,\n",
    "            embedding=embedding,\n",
    "        ) \n",
    "        \n",
    "        # Save the index\n",
    "        vectorstore.save_local(save_path)       \n",
    "        print(\"Vector store created and persisted\")\n",
    "        return vectorstore\n",
    "    except Exception as e:\n",
    "        print(f\"Error occurred: {str(e)}\")\n",
    "        return None\n"
   ]
  },
  {
   "cell_type": "code",
   "execution_count": 35,
   "metadata": {},
   "outputs": [],
   "source": [
    "def load_vectorstore(save_path=\"./faiss_index\"):\n",
    "    try:\n",
    "        # Initialize the embedding model\n",
    "        #embedding = HuggingFaceEmbeddings(model_name=\"sentence-transformers/all-MiniLM-L6-v2\")\n",
    "        \n",
    "        # Load the index\n",
    "        vectorstore = FAISS.load_local(save_path, allow_dangerous_deserialization=True)\n",
    "        \n",
    "        print(\"Vector store loaded\")\n",
    "        return vectorstore\n",
    "    except Exception as e:\n",
    "        print(f\"Error occurred while loading vector store: {str(e)}\")\n",
    "        return None"
   ]
  },
  {
   "cell_type": "code",
   "execution_count": 9,
   "metadata": {},
   "outputs": [],
   "source": [
    "#loading vector store from faiss\n",
    "class LazyLoadedFAISS:\n",
    "    def __init__(self, save_path):\n",
    "        self.save_path = save_path\n",
    "        self.vectorstore = None\n",
    "        self.embedding = None\n",
    "\n",
    "    def load(self):\n",
    "        if self.vectorstore is None:\n",
    "            self.embedding = HuggingFaceEmbeddings(model_name=\"sentence-transformers/all-MiniLM-L6-v2\")\n",
    "            self.vectorstore = FAISS.load_local(self.save_path, embeddings=self.embedding, allow_dangerous_deserialization=True)\n",
    "        return self.vectorstore\n",
    "\n",
    "    def similarity_search(self, query, *args, **kwargs):\n",
    "        return self.load().similarity_search(query, *args, **kwargs)\n",
    "\n",
    "    def add_documents(self, documents):\n",
    "        return self.load().add_documents(documents)\n",
    "\n",
    "def load_vectorstore(save_path=\"./faiss_index\"):\n",
    "    try:\n",
    "        lazy_vectorstore = LazyLoadedFAISS(save_path)\n",
    "        print(\"Lazy-loaded vector store initialized\")\n",
    "        return lazy_vectorstore\n",
    "    except Exception as e:\n",
    "        print(f\"Error occurred while initializing lazy-loaded vector store: {str(e)}\")\n",
    "        return None"
   ]
  },
  {
   "cell_type": "code",
   "execution_count": 10,
   "metadata": {},
   "outputs": [],
   "source": [
    "\n",
    "\n",
    "def retriever(vectorstore):\n",
    "    template=\"\"\"You are an AI assistant trained to provide supportive responses and practical advice for a range of issues, from everyday stress to more severe emotional distress. Your primary goals are:\n",
    "\n",
    "        1. For minor issues (like exam stress, daily worries), provide practical advice, coping strategies, and emotional support.\n",
    "        2. For moderate issues, offer more in-depth support and coping strategies, while gently suggesting professional help as an option.\n",
    "        3. For severe issues (clear signs of depression, suicidal thoughts), strongly encourage seeking professional help while providing immediate emotional support.\n",
    "\n",
    "        Always maintain a compassionate and supportive tone. Offer specific, actionable advice when possible.\n",
    "\n",
    "        Context: {context}\n",
    "        Chat History: {chat_history}\n",
    "        Human: {question}\n",
    "\n",
    "        AI Assistant:\"\"\"\n",
    "\n",
    "    custom_prompt = ChatPromptTemplate.from_template(template)\n",
    "    \n",
    "    memory = ConversationBufferMemory(\n",
    "        memory_key=\"chat_history\",\n",
    "        return_messages=True,\n",
    "        output_key='answer'\n",
    "    )\n",
    "    \n",
    "    chain = ConversationalRetrievalChain.from_llm(\n",
    "        llm=llm,\n",
    "        retriever=vectorstore.as_retriever(search_kwargs={\"k\": 5}),\n",
    "        memory=memory,\n",
    "        combine_docs_chain_kwargs={\"prompt\": custom_prompt},\n",
    "        return_source_documents=True,\n",
    "        return_generated_question=True,\n",
    "    )\n",
    "    \n",
    "    print('Database retriever created')\n",
    "    return chain"
   ]
  },
  {
   "cell_type": "code",
   "execution_count": 1,
   "metadata": {},
   "outputs": [],
   "source": [
    "def chat(chain):\n",
    "    while True:\n",
    "        query = input('You: ')\n",
    "        if query.lower() in ['exit', 'quit', 'bye']:\n",
    "            print(\"AI: Goodbye! Take care.\")\n",
    "            break\n",
    "        result = chain.invoke({\"question\": query})\n",
    "        ai_response = result['answer']\n",
    "        print(f\"AI: {ai_response}\")"
   ]
  },
  {
   "cell_type": "code",
   "execution_count": 11,
   "metadata": {},
   "outputs": [],
   "source": [
    "#sentimentl analysis\n",
    "def sentiment_analysis(sentiment):\n",
    "    text = TextBlob(sentiment)\n",
    "    return text"
   ]
  },
  {
   "cell_type": "code",
   "execution_count": 12,
   "metadata": {},
   "outputs": [],
   "source": [
    "def check_risk_keywords(text):\n",
    "    risk_keywords = ['suicide', 'kill myself', 'end it all', 'no reason to live']\n",
    "    return any(keyword in text.lower() for keyword in risk_keywords)"
   ]
  },
  {
   "cell_type": "code",
   "execution_count": 13,
   "metadata": {},
   "outputs": [],
   "source": [
    "def update_criticly_score(text, sentiment):\n",
    "    global crisis_score\n",
    "    if check_risk_keywords(text):\n",
    "        crisis_score +=2\n",
    "    if sentiment.polarity < -0.5:\n",
    "        crisis_score += 1\n",
    "    return crisis_score"
   ]
  },
  {
   "cell_type": "code",
   "execution_count": 14,
   "metadata": {},
   "outputs": [],
   "source": [
    "def provide_helpline_info():\n",
    "    return \"\"\"\n",
    "    If you're feeling suicidal, please reach out for help:\n",
    "    - National Suicide Prevention Lifeline: 1-800-273-8255\n",
    "    - Crisis Text Line: Text HOME to 741741\n",
    "    Remember, you're not alone, and help is available 24/7.\n",
    "    \"\"\""
   ]
  },
  {
   "cell_type": "code",
   "execution_count": 15,
   "metadata": {},
   "outputs": [],
   "source": [
    "def chat_loop(retriever_chain):\n",
    "    global crisis_score\n",
    "    print(\"AI: Hello! I'm here to talk. How are you feeling today?\")\n",
    "    \n",
    "    while True:\n",
    "        user_input = input(\"You: \")\n",
    "        \n",
    "        sentiment = sentiment_analysis(user_input)\n",
    "        crisis_score = update_criticly_score(user_input, sentiment)\n",
    "        \n",
    "        if crisis_score > 5:\n",
    "            print(\"AI:\", provide_helpline_info())\n",
    "            crisis_score = 0\n",
    "        \n",
    "        result = retriever_chain({\"question\": user_input})\n",
    "        ai_response = result['answer']\n",
    "        print(\"AI:\", ai_response)\n",
    "        \n",
    "        # Generate follow-up with a 30% chance\n",
    "        # if random.random() < 0.3 and not any(word in user_input.lower() for word in ['exit', 'quit', 'bye']):\n",
    "        #     follow_up = generate_follow_up(ai_response, retriever_chain.memory.chat_memory)\n",
    "        #     print(\"AI:\", follow_up)\n",
    "        \n",
    "        if user_input.lower() in ['exit', 'quit', 'bye']:\n",
    "            print(\"AI: Take care. Remember, help is always available if you need it.\")\n",
    "            break"
   ]
  },
  {
   "cell_type": "code",
   "execution_count": 64,
   "metadata": {},
   "outputs": [
    {
     "name": "stdout",
     "output_type": "stream",
     "text": [
      "length of document 500\n",
      "content of document Scenario_ID: 1\n",
      "User_Statement: \"I can't stop thinking about making mistakes. It's like my brain is on replay, and I can't focus on anything else.\"\n",
      "Counselor_Response: \"It sounds like you're experiencing some intrusive thoughts. This can be very distressing. It's important to remember that everyone makes mistakes, and it's normal to have doubts. Have you tried any techniques to manage these thoughts, like mindfulness or distraction? We can explore strategies together to help you cope.\"\n",
      "Mental_Health_Issue: Obsessive-Compulsive Disorder (OCD)\n",
      "Explanation: The user describes symptoms of obsessive-compulsive disorder, specifically intrusive thoughts. The counselor acknowledges the distress and offers potential coping mechanisms, encouraging the user to seek further support.\n"
     ]
    }
   ],
   "source": [
    "file = 'health.csv'\n",
    "doc = load_doc(file)"
   ]
  },
  {
   "cell_type": "code",
   "execution_count": 65,
   "metadata": {},
   "outputs": [],
   "source": [
    "clean =preprocessing(doc)"
   ]
  },
  {
   "cell_type": "code",
   "execution_count": 66,
   "metadata": {},
   "outputs": [
    {
     "name": "stdout",
     "output_type": "stream",
     "text": [
      "length of split document: 500\n"
     ]
    }
   ],
   "source": [
    "chunk = split_documents(clean)"
   ]
  },
  {
   "cell_type": "code",
   "execution_count": 67,
   "metadata": {},
   "outputs": [
    {
     "name": "stdout",
     "output_type": "stream",
     "text": [
      "Vector store created and persisted\n"
     ]
    }
   ],
   "source": [
    "indexes = indexing(chunk)"
   ]
  },
  {
   "cell_type": "code",
   "execution_count": 37,
   "metadata": {},
   "outputs": [
    {
     "name": "stdout",
     "output_type": "stream",
     "text": [
      "Error occurred while loading vector store: load_local() missing 1 required positional argument: 'embeddings'\n"
     ]
    }
   ],
   "source": [
    "#vectorstore = load_vectorstore()"
   ]
  },
  {
   "cell_type": "code",
   "execution_count": 25,
   "metadata": {},
   "outputs": [
    {
     "name": "stdout",
     "output_type": "stream",
     "text": [
      "page_content='Scenario_ID: 139 User_Statement: \"I've been feeling really anxious about my relationship. I'm scared it might end.\" Counselor_Response: \"Relationship anxiety can be very distressing, and I'm sorry you're experiencing this. It's important to communicate your feelings and concerns with your partner. Have you considered having an open conversation about your worries? Let's explore some ways to help you manage this anxiety and strengthen your relationship.\" Mental_Health_Issue: Relationship Anxiety Explanation: This scenario addresses relationship anxiety. The user's statement reflects fear about the potential end of a relationship. The counselor acknowledges the distress and suggests open communication with the partner, offering support to manage the anxiety and strengthen the relationship.' metadata={'source': 'health.csv', 'row': 138} \n",
      "\n",
      "page_content='Scenario_ID: 339 User_Statement: \"I've been feeling really anxious about my relationship. I'm scared it might end.\" Counselor_Response: \"Relationship anxiety can be very distressing, and I'm sorry you're experiencing this. It's important to communicate your feelings and concerns with your partner. Have you considered having an open conversation about your worries? Let's explore some ways to help you manage this anxiety and strengthen your relationship.\" Mental_Health_Issue: Relationship Anxiety Explanation: This scenario addresses relationship anxiety. The user's statement reflects fear about the potential end of a relationship. The counselor acknowledges the distress and suggests open communication with the partner, offering support to manage the anxiety and strengthen the relationship.' metadata={'source': 'health.csv', 'row': 338} \n",
      "\n",
      "page_content='Scenario_ID: 369 User_Statement: \"I've been feeling really anxious about my relationship and where it's going.\" Counselor_Response: \"Relationship anxiety can be very challenging, and I'm sorry you're feeling this way. It's important to communicate openly with your partner about your concerns. Have you considered having a conversation about your feelings and future plans? Let's explore some ways to help you feel more secure and understood in your relationship.\" Mental_Health_Issue: Relationship Anxiety Explanation: This scenario addresses anxiety about a relationship. The user's statement reflects concerns about the future. The counselor acknowledges the anxiety and suggests open communication with the partner, offering support to help the user feel more secure and understood.' metadata={'source': 'health.csv', 'row': 368} \n",
      "\n",
      "page_content='Scenario_ID: 374 User_Statement: \"I feel like I'm always stressed out about my family dynamics.\" Counselor_Response: \"Family dynamics can be very stressful, and I'm sorry you're experiencing this. It's important to find ways to manage this stress and communicate effectively. Have you considered family therapy or setting boundaries with family members? Let's explore some strategies to help you navigate your family dynamics more smoothly.\" Mental_Health_Issue: Family Stress Explanation: This scenario addresses stress from family dynamics. The user's statement reflects difficulty managing family-related stress. The counselor acknowledges the stress and suggests family therapy or setting boundaries, offering support to help the user navigate family dynamics.' metadata={'source': 'health.csv', 'row': 373} \n",
      "\n"
     ]
    }
   ],
   "source": [
    "# query = \"I have stress in relationship and i dont know how to deal with it\"\n",
    "# result = indexes.similarity_search(query)\n",
    "# for result in result:\n",
    "#     print(result, \"\\n\")"
   ]
  },
  {
   "cell_type": "code",
   "execution_count": 18,
   "metadata": {},
   "outputs": [
    {
     "name": "stdout",
     "output_type": "stream",
     "text": [
      "Lazy-loaded vector store initialized\n"
     ]
    },
    {
     "name": "stderr",
     "output_type": "stream",
     "text": [
      "c:\\Users\\Ather Ali\\anaconda3\\envs\\fyp\\lib\\site-packages\\sentence_transformers\\cross_encoder\\CrossEncoder.py:11: TqdmWarning: IProgress not found. Please update jupyter and ipywidgets. See https://ipywidgets.readthedocs.io/en/stable/user_install.html\n",
      "  from tqdm.autonotebook import tqdm, trange\n"
     ]
    },
    {
     "name": "stdout",
     "output_type": "stream",
     "text": [
      "page_content='Scenario_ID: 139 User_Statement: \"I've been feeling really anxious about my relationship. I'm scared it might end.\" Counselor_Response: \"Relationship anxiety can be very distressing, and I'm sorry you're experiencing this. It's important to communicate your feelings and concerns with your partner. Have you considered having an open conversation about your worries? Let's explore some ways to help you manage this anxiety and strengthen your relationship.\" Mental_Health_Issue: Relationship Anxiety Explanation: This scenario addresses relationship anxiety. The user's statement reflects fear about the potential end of a relationship. The counselor acknowledges the distress and suggests open communication with the partner, offering support to manage the anxiety and strengthen the relationship.' metadata={'source': 'health.csv', 'row': 138} \n",
      "\n",
      "page_content='Scenario_ID: 339 User_Statement: \"I've been feeling really anxious about my relationship. I'm scared it might end.\" Counselor_Response: \"Relationship anxiety can be very distressing, and I'm sorry you're experiencing this. It's important to communicate your feelings and concerns with your partner. Have you considered having an open conversation about your worries? Let's explore some ways to help you manage this anxiety and strengthen your relationship.\" Mental_Health_Issue: Relationship Anxiety Explanation: This scenario addresses relationship anxiety. The user's statement reflects fear about the potential end of a relationship. The counselor acknowledges the distress and suggests open communication with the partner, offering support to manage the anxiety and strengthen the relationship.' metadata={'source': 'health.csv', 'row': 338} \n",
      "\n",
      "page_content='Scenario_ID: 369 User_Statement: \"I've been feeling really anxious about my relationship and where it's going.\" Counselor_Response: \"Relationship anxiety can be very challenging, and I'm sorry you're feeling this way. It's important to communicate openly with your partner about your concerns. Have you considered having a conversation about your feelings and future plans? Let's explore some ways to help you feel more secure and understood in your relationship.\" Mental_Health_Issue: Relationship Anxiety Explanation: This scenario addresses anxiety about a relationship. The user's statement reflects concerns about the future. The counselor acknowledges the anxiety and suggests open communication with the partner, offering support to help the user feel more secure and understood.' metadata={'source': 'health.csv', 'row': 368} \n",
      "\n",
      "page_content='Scenario_ID: 374 User_Statement: \"I feel like I'm always stressed out about my family dynamics.\" Counselor_Response: \"Family dynamics can be very stressful, and I'm sorry you're experiencing this. It's important to find ways to manage this stress and communicate effectively. Have you considered family therapy or setting boundaries with family members? Let's explore some strategies to help you navigate your family dynamics more smoothly.\" Mental_Health_Issue: Family Stress Explanation: This scenario addresses stress from family dynamics. The user's statement reflects difficulty managing family-related stress. The counselor acknowledges the stress and suggests family therapy or setting boundaries, offering support to help the user navigate family dynamics.' metadata={'source': 'health.csv', 'row': 373} \n",
      "\n"
     ]
    }
   ],
   "source": [
    "lazy_vectorstore = load_vectorstore()\n",
    "query = \"I have stress in relationship and i dont know how to deal with it\"\n",
    "result = lazy_vectorstore.similarity_search(query)\n",
    "for result in result:\n",
    "    print(result, \"\\n\")"
   ]
  },
  {
   "cell_type": "code",
   "execution_count": 19,
   "metadata": {},
   "outputs": [
    {
     "name": "stdout",
     "output_type": "stream",
     "text": [
      "Database retriever created\n"
     ]
    }
   ],
   "source": [
    "#The lazy_vectorstore.load() call is important because your LazyLoadedFAISS class needs to actually load the vectorstore before we can use it.\n",
    "db = retriever(lazy_vectorstore.load())"
   ]
  },
  {
   "cell_type": "code",
   "execution_count": 130,
   "metadata": {},
   "outputs": [],
   "source": [
    "chat(db)"
   ]
  },
  {
   "cell_type": "code",
   "execution_count": 20,
   "metadata": {},
   "outputs": [
    {
     "name": "stdout",
     "output_type": "stream",
     "text": [
      "AI: Hello! I'm here to talk. How are you feeling today?\n"
     ]
    },
    {
     "name": "stderr",
     "output_type": "stream",
     "text": [
      "c:\\Users\\Ather Ali\\anaconda3\\envs\\fyp\\lib\\site-packages\\langchain_core\\_api\\deprecation.py:139: LangChainDeprecationWarning: The method `Chain.__call__` was deprecated in langchain 0.1.0 and will be removed in 0.3.0. Use invoke instead.\n",
      "  warn_deprecated(\n"
     ]
    },
    {
     "name": "stdout",
     "output_type": "stream",
     "text": [
      "AI: Hello! How are you feeling today?\n",
      "AI: I'm here and ready to help you. How are you feeling today?\n",
      "AI: I'm here to support you with anything you need. Feel free to share what's on your mind, and I'll do my best to help.\n",
      "AI: Take care. Remember, help is always available if you need it.\n"
     ]
    }
   ],
   "source": [
    "chat_loop(db)"
   ]
  }
 ],
 "metadata": {
  "kernelspec": {
   "display_name": "fyp",
   "language": "python",
   "name": "python3"
  },
  "language_info": {
   "codemirror_mode": {
    "name": "ipython",
    "version": 3
   },
   "file_extension": ".py",
   "mimetype": "text/x-python",
   "name": "python",
   "nbconvert_exporter": "python",
   "pygments_lexer": "ipython3",
   "version": "3.9.19"
  }
 },
 "nbformat": 4,
 "nbformat_minor": 2
}
